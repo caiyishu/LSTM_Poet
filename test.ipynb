{
 "cells": [
  {
   "cell_type": "code",
   "execution_count": 1,
   "metadata": {},
   "outputs": [],
   "source": [
    "from main import *\n",
    "from model import *\n",
    "from config import *\n",
    "import torch as t\n",
    "from generate import *"
   ]
  },
  {
   "cell_type": "code",
   "execution_count": 2,
   "metadata": {},
   "outputs": [],
   "source": [
    "def userTest():\n",
    "    print(\"正在初始化......\")\n",
    "    datas = np.load(\"tang.npz\", allow_pickle=True)\n",
    "    data = datas['data']\n",
    "    ix2word = datas['ix2word'].item()\n",
    "    word2ix = datas['word2ix'].item()\n",
    "    model = PoetryModel(len(ix2word), Config.embedding_dim, Config.hidden_dim)\n",
    "    model.load_state_dict(t.load(Config.model_path, 'cpu'))\n",
    "    if Config.use_gpu:\n",
    "        model.to(t.device('cuda'))\n",
    "    print(\"初始化完成！\\n\")\n",
    "    while True:\n",
    "        print(\"欢迎使用唐诗生成器，\\n\"\n",
    "              \"输入1 进入首句生成模式\\n\"\n",
    "              \"输入2 进入藏头诗生成模式\\n\")\n",
    "        mode = int(input())\n",
    "        if mode == 1:\n",
    "            print(\"请输入您想要的诗歌首句，可以是五言或七言\")\n",
    "            start_words = str(input())\n",
    "            gen_poetry = ''.join(generate(model, start_words, ix2word, word2ix))\n",
    "            print(\"生成的诗句如下：%s\\n\" % (gen_poetry))\n",
    "        elif mode == 2:\n",
    "            print(\"请输入您想要的诗歌藏头部分，不超过16个字，最好是偶数\")\n",
    "            start_words = str(input())\n",
    "            gen_poetry = ''.join(gen_acrostic(model, start_words, ix2word, word2ix))\n",
    "            print(\"生成的诗句如下：%s\\n\" % (gen_poetry))"
   ]
  },
  {
   "cell_type": "code",
   "execution_count": null,
   "metadata": {},
   "outputs": [
    {
     "name": "stdout",
     "output_type": "stream",
     "text": [
      "正在初始化......\n",
      "初始化完成！\n",
      "\n",
      "欢迎使用唐诗生成器，\n",
      "输入1 进入首句生成模式\n",
      "输入2 进入藏头诗生成模式\n",
      "\n"
     ]
    },
    {
     "name": "stdin",
     "output_type": "stream",
     "text": [
      " 2\n"
     ]
    },
    {
     "name": "stdout",
     "output_type": "stream",
     "text": [
      "请输入您想要的诗歌藏头部分，不超过16个字，最好是偶数\n"
     ]
    },
    {
     "name": "stdin",
     "output_type": "stream",
     "text": [
      " 小宝好学\n"
     ]
    },
    {
     "name": "stdout",
     "output_type": "stream",
     "text": [
      "生成的诗句如下：小年有大乐，宝书名空西。好名不及远，学者如流沙。\n",
      "\n",
      "欢迎使用唐诗生成器，\n",
      "输入1 进入首句生成模式\n",
      "输入2 进入藏头诗生成模式\n",
      "\n"
     ]
    },
    {
     "name": "stdin",
     "output_type": "stream",
     "text": [
      " 2\n"
     ]
    },
    {
     "name": "stdout",
     "output_type": "stream",
     "text": [
      "请输入您想要的诗歌藏头部分，不超过16个字，最好是偶数\n"
     ]
    },
    {
     "name": "stdin",
     "output_type": "stream",
     "text": [
      " 玉龙高考金榜题名\n"
     ]
    },
    {
     "name": "stdout",
     "output_type": "stream",
     "text": [
      "生成的诗句如下：玉律初移候，龙泉几旦鲜。高高明第一门后，考玉都临香殿前。金蘂飘飘宜瑞露，榜书飞踏落晴天。题诗汗若红妆案，名舍轮回玉辇仙。\n",
      "\n",
      "欢迎使用唐诗生成器，\n",
      "输入1 进入首句生成模式\n",
      "输入2 进入藏头诗生成模式\n",
      "\n"
     ]
    }
   ],
   "source": [
    "userTest()"
   ]
  },
  {
   "cell_type": "code",
   "execution_count": null,
   "metadata": {},
   "outputs": [],
   "source": []
  }
 ],
 "metadata": {
  "kernelspec": {
   "display_name": "Python 3",
   "language": "python",
   "name": "python3"
  },
  "language_info": {
   "codemirror_mode": {
    "name": "ipython",
    "version": 3
   },
   "file_extension": ".py",
   "mimetype": "text/x-python",
   "name": "python",
   "nbconvert_exporter": "python",
   "pygments_lexer": "ipython3",
   "version": "3.8.8"
  }
 },
 "nbformat": 4,
 "nbformat_minor": 4
}
